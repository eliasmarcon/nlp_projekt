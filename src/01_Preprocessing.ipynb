{
  "cells": [
    {
      "cell_type": "code",
      "execution_count": 4,
      "id": "f85ec92d",
      "metadata": {},
      "outputs": [],
      "source": [
        "import pandas as pd\n",
        "import re\n",
        "import nltk\n",
        "from nltk.stem import WordNetLemmatizer\n",
        "from nltk.tokenize import word_tokenize"
      ]
    },
    {
      "cell_type": "code",
      "execution_count": 5,
      "id": "bff6c073",
      "metadata": {},
      "outputs": [],
      "source": [
        "df_combine = pd.read_csv('../datasets/00_output_datasets/dataset_combined.csv')"
      ]
    },
    {
      "cell_type": "markdown",
      "id": "a4961f4b-5c98-4665-a04a-6283e35343e0",
      "metadata": {},
      "source": [
        "## Pre-processing standard Workflow"
      ]
    },
    {
      "cell_type": "markdown",
      "id": "faacc378-f338-41ea-b2b3-f2807ecdfb27",
      "metadata": {},
      "source": [
        "### Text Cleaning (Removing special characters & numbers and handling contractions)"
      ]
    },
    {
      "cell_type": "code",
      "execution_count": 6,
      "id": "457d2201-1c09-4d93-a57f-4ee94c931f09",
      "metadata": {},
      "outputs": [
        {
          "data": {
            "text/html": [
              "<div>\n",
              "<style scoped>\n",
              "    .dataframe tbody tr th:only-of-type {\n",
              "        vertical-align: middle;\n",
              "    }\n",
              "\n",
              "    .dataframe tbody tr th {\n",
              "        vertical-align: top;\n",
              "    }\n",
              "\n",
              "    .dataframe thead th {\n",
              "        text-align: right;\n",
              "    }\n",
              "</style>\n",
              "<table border=\"1\" class=\"dataframe\">\n",
              "  <thead>\n",
              "    <tr style=\"text-align: right;\">\n",
              "      <th></th>\n",
              "      <th>label</th>\n",
              "      <th>text</th>\n",
              "    </tr>\n",
              "  </thead>\n",
              "  <tbody>\n",
              "    <tr>\n",
              "      <th>0</th>\n",
              "      <td>hate</td>\n",
              "      <td>I hate women</td>\n",
              "    </tr>\n",
              "    <tr>\n",
              "      <th>1</th>\n",
              "      <td>hate</td>\n",
              "      <td>I hate trans people</td>\n",
              "    </tr>\n",
              "    <tr>\n",
              "      <th>2</th>\n",
              "      <td>hate</td>\n",
              "      <td>I hate gay people</td>\n",
              "    </tr>\n",
              "    <tr>\n",
              "      <th>3</th>\n",
              "      <td>hate</td>\n",
              "      <td>I hate black people</td>\n",
              "    </tr>\n",
              "    <tr>\n",
              "      <th>4</th>\n",
              "      <td>hate</td>\n",
              "      <td>I hate disabled people</td>\n",
              "    </tr>\n",
              "  </tbody>\n",
              "</table>\n",
              "</div>"
            ],
            "text/plain": [
              "  label                    text\n",
              "0  hate            I hate women\n",
              "1  hate     I hate trans people\n",
              "2  hate       I hate gay people\n",
              "3  hate     I hate black people\n",
              "4  hate  I hate disabled people"
            ]
          },
          "metadata": {},
          "output_type": "display_data"
        }
      ],
      "source": [
        "# Function to clean text: remove special characters, numbers, and expand contractions\n",
        "def clean_text(text):\n",
        "    # Dictionary of English Contractions\n",
        "    contractions_dict = {\n",
        "        \"I'm\": \"I am\",\n",
        "        \"you're\": \"you are\",\n",
        "        \"he's\": \"he is\",\n",
        "        \"she's\": \"she is\",\n",
        "        \"it's\": \"it is\",\n",
        "        \"we're\": \"we are\",\n",
        "        \"they're\": \"they are\",\n",
        "        \"don't\": \"do not\",\n",
        "        \"can't\": \"cannot\",\n",
        "        \"won't\": \"will not\",\n",
        "        \"isn't\": \"is not\",\n",
        "        \"aren't\": \"are not\",\n",
        "        \"didn't\": \"did not\",\n",
        "        \"haven't\": \"have not\",\n",
        "        \"wouldn't\": \"would not\",\n",
        "        \"shouldn't\": \"should not\",\n",
        "        \"couldn't\": \"could not\"\n",
        "            # Add more contractions as needed\n",
        "    }\n",
        "    # Regular expression for finding contractions\n",
        "    contractions_re = re.compile('(%s)' % '|'.join(contractions_dict.keys()))\n",
        "\n",
        "    # Function for expanding contractions\n",
        "    def expand_contractions(s, contractions_dict=contractions_dict):\n",
        "        def replace(match):\n",
        "            return contractions_dict[match.group(0)]\n",
        "        return contractions_re.sub(replace, s)\n",
        "\n",
        "    # Expand Contractions\n",
        "    text = expand_contractions(text)\n",
        "    # Remove special characters and numbers\n",
        "    text = re.sub(r'[^a-zA-Z\\s]', '', text, re.I|re.A)\n",
        "    \n",
        "    return text\n",
        "\n",
        "# Apply the cleaning function to both DataFrames\n",
        "df_combine['text'] = df_combine['text'].apply(clean_text)\n",
        "\n",
        "# Display the head of the combined DataFrame to verify the changes\n",
        "display(df_combine.head())"
      ]
    },
    {
      "cell_type": "markdown",
      "id": "cb6e7410-55c4-4a96-a1dc-e01047743a59",
      "metadata": {},
      "source": [
        "### Normalization"
      ]
    },
    {
      "cell_type": "code",
      "execution_count": 7,
      "id": "90cd986a-8e7f-488d-84d0-5cec0b76003e",
      "metadata": {},
      "outputs": [
        {
          "name": "stderr",
          "output_type": "stream",
          "text": [
            "[nltk_data] Downloading package punkt to /Users/jlangela/nltk_data...\n",
            "[nltk_data]   Package punkt is already up-to-date!\n",
            "[nltk_data] Downloading package wordnet to\n",
            "[nltk_data]     /Users/jlangela/nltk_data...\n",
            "[nltk_data]   Package wordnet is already up-to-date!\n"
          ]
        }
      ],
      "source": [
        "# Download necessary NLTK resources\n",
        "nltk.download('punkt')  # For tokenization\n",
        "nltk.download('wordnet')  # For lemmatization\n",
        "\n",
        "# Now, initialize the WordNetLemmatizer\n",
        "lemmatizer = WordNetLemmatizer()"
      ]
    },
    {
      "cell_type": "code",
      "execution_count": 8,
      "id": "7dd27b71-add0-4c42-bcbb-f3ce846466df",
      "metadata": {},
      "outputs": [
        {
          "name": "stderr",
          "output_type": "stream",
          "text": [
            "[nltk_data] Downloading package omw-1.4 to\n",
            "[nltk_data]     /Users/jlangela/nltk_data...\n",
            "[nltk_data]   Package omw-1.4 is already up-to-date!\n"
          ]
        },
        {
          "data": {
            "text/plain": [
              "True"
            ]
          },
          "execution_count": 8,
          "metadata": {},
          "output_type": "execute_result"
        }
      ],
      "source": [
        "# Download the 'omw-1.4' resource to fix an error that I encountered further down below\n",
        "nltk.download('omw-1.4')"
      ]
    },
    {
      "cell_type": "code",
      "execution_count": 9,
      "id": "b2065896-84dd-45f1-a009-3c77cac375b5",
      "metadata": {},
      "outputs": [
        {
          "data": {
            "text/html": [
              "<div>\n",
              "<style scoped>\n",
              "    .dataframe tbody tr th:only-of-type {\n",
              "        vertical-align: middle;\n",
              "    }\n",
              "\n",
              "    .dataframe tbody tr th {\n",
              "        vertical-align: top;\n",
              "    }\n",
              "\n",
              "    .dataframe thead th {\n",
              "        text-align: right;\n",
              "    }\n",
              "</style>\n",
              "<table border=\"1\" class=\"dataframe\">\n",
              "  <thead>\n",
              "    <tr style=\"text-align: right;\">\n",
              "      <th></th>\n",
              "      <th>label</th>\n",
              "      <th>text</th>\n",
              "    </tr>\n",
              "  </thead>\n",
              "  <tbody>\n",
              "    <tr>\n",
              "      <th>0</th>\n",
              "      <td>hate</td>\n",
              "      <td>i hate woman</td>\n",
              "    </tr>\n",
              "    <tr>\n",
              "      <th>1</th>\n",
              "      <td>hate</td>\n",
              "      <td>i hate trans people</td>\n",
              "    </tr>\n",
              "    <tr>\n",
              "      <th>2</th>\n",
              "      <td>hate</td>\n",
              "      <td>i hate gay people</td>\n",
              "    </tr>\n",
              "    <tr>\n",
              "      <th>3</th>\n",
              "      <td>hate</td>\n",
              "      <td>i hate black people</td>\n",
              "    </tr>\n",
              "    <tr>\n",
              "      <th>4</th>\n",
              "      <td>hate</td>\n",
              "      <td>i hate disabled people</td>\n",
              "    </tr>\n",
              "  </tbody>\n",
              "</table>\n",
              "</div>"
            ],
            "text/plain": [
              "  label                    text\n",
              "0  hate            i hate woman\n",
              "1  hate     i hate trans people\n",
              "2  hate       i hate gay people\n",
              "3  hate     i hate black people\n",
              "4  hate  i hate disabled people"
            ]
          },
          "execution_count": 9,
          "metadata": {},
          "output_type": "execute_result"
        }
      ],
      "source": [
        "# Convert text to lowercase\n",
        "df_combine['text'] = df_combine['text'].str.lower()\n",
        "\n",
        "# Initialize the NLTK WordNet Lemmatizer\n",
        "lemmatizer = WordNetLemmatizer()\n",
        "\n",
        "# Function to lemmatize text\n",
        "def lemmatize_text(text):\n",
        "    # Tokenize the text\n",
        "    tokens = word_tokenize(text)\n",
        "    # Lemmatize each word in the text\n",
        "    lemmatized_tokens = [lemmatizer.lemmatize(token) for token in tokens]\n",
        "    # Rejoin lemmatized tokens into a single string\n",
        "    lemmatized_text = ' '.join(lemmatized_tokens)\n",
        "    return lemmatized_text\n",
        "\n",
        "# Apply the lemmatization function to the 'text' column\n",
        "df_combine['text'] = df_combine['text'].apply(lemmatize_text)\n",
        "\n",
        "# Display the head of the DataFrame to verify the changes\n",
        "df_combine.head()"
      ]
    },
    {
      "cell_type": "code",
      "execution_count": 10,
      "id": "3ce5bd65",
      "metadata": {},
      "outputs": [],
      "source": [
        "for index, row in df_combine.iterrows():\n",
        "    if row['text'] == '':\n",
        "        df_combine.drop(index, inplace=True)"
      ]
    },
    {
      "cell_type": "code",
      "execution_count": 11,
      "id": "658d9fa2",
      "metadata": {},
      "outputs": [],
      "source": [
        "## saving for BERT Model which tokenizes the text on its own\n",
        "df_combine.to_csv('../datasets/01_preprocessed_datasets/dataset_preprocessed_no_transformation.csv', index=False)"
      ]
    },
    {
      "cell_type": "markdown",
      "id": "e6e4bc3d",
      "metadata": {},
      "source": [
        "### Tokenization"
      ]
    },
    {
      "cell_type": "code",
      "execution_count": 12,
      "id": "0e4ce57c",
      "metadata": {},
      "outputs": [
        {
          "name": "stderr",
          "output_type": "stream",
          "text": [
            "[nltk_data] Downloading package punkt to /Users/jlangela/nltk_data...\n",
            "[nltk_data]   Package punkt is already up-to-date!\n"
          ]
        },
        {
          "data": {
            "text/html": [
              "<div>\n",
              "<style scoped>\n",
              "    .dataframe tbody tr th:only-of-type {\n",
              "        vertical-align: middle;\n",
              "    }\n",
              "\n",
              "    .dataframe tbody tr th {\n",
              "        vertical-align: top;\n",
              "    }\n",
              "\n",
              "    .dataframe thead th {\n",
              "        text-align: right;\n",
              "    }\n",
              "</style>\n",
              "<table border=\"1\" class=\"dataframe\">\n",
              "  <thead>\n",
              "    <tr style=\"text-align: right;\">\n",
              "      <th></th>\n",
              "      <th>label</th>\n",
              "      <th>text</th>\n",
              "      <th>tokens</th>\n",
              "    </tr>\n",
              "  </thead>\n",
              "  <tbody>\n",
              "    <tr>\n",
              "      <th>0</th>\n",
              "      <td>hate</td>\n",
              "      <td>i hate woman</td>\n",
              "      <td>[i, hate, woman]</td>\n",
              "    </tr>\n",
              "    <tr>\n",
              "      <th>1</th>\n",
              "      <td>hate</td>\n",
              "      <td>i hate trans people</td>\n",
              "      <td>[i, hate, trans, people]</td>\n",
              "    </tr>\n",
              "    <tr>\n",
              "      <th>2</th>\n",
              "      <td>hate</td>\n",
              "      <td>i hate gay people</td>\n",
              "      <td>[i, hate, gay, people]</td>\n",
              "    </tr>\n",
              "    <tr>\n",
              "      <th>3</th>\n",
              "      <td>hate</td>\n",
              "      <td>i hate black people</td>\n",
              "      <td>[i, hate, black, people]</td>\n",
              "    </tr>\n",
              "    <tr>\n",
              "      <th>4</th>\n",
              "      <td>hate</td>\n",
              "      <td>i hate disabled people</td>\n",
              "      <td>[i, hate, disabled, people]</td>\n",
              "    </tr>\n",
              "  </tbody>\n",
              "</table>\n",
              "</div>"
            ],
            "text/plain": [
              "  label                    text                       tokens\n",
              "0  hate            i hate woman             [i, hate, woman]\n",
              "1  hate     i hate trans people     [i, hate, trans, people]\n",
              "2  hate       i hate gay people       [i, hate, gay, people]\n",
              "3  hate     i hate black people     [i, hate, black, people]\n",
              "4  hate  i hate disabled people  [i, hate, disabled, people]"
            ]
          },
          "metadata": {},
          "output_type": "display_data"
        }
      ],
      "source": [
        "# Ensure you have the necessary NLTK resource downloaded\n",
        "nltk.download('punkt')\n",
        "\n",
        "# Assuming df_combine is your DataFrame and it has a column named 'text' with normalized text\n",
        "# Define a function to tokenize text\n",
        "def tokenize_text(text):\n",
        "    # Use NLTK's word_tokenize function to split the text into tokens\n",
        "    tokens = word_tokenize(text)\n",
        "    return tokens\n",
        "\n",
        "# Apply the tokenization function to each row in the 'text' column\n",
        "df_combine['tokens'] = df_combine['text'].apply(tokenize_text)\n",
        "\n",
        "# Display the first few rows to check the tokenized text\n",
        "display(df_combine.head())"
      ]
    },
    {
      "cell_type": "markdown",
      "id": "800c6188",
      "metadata": {},
      "source": [
        "### Removing Stop Words"
      ]
    },
    {
      "cell_type": "code",
      "execution_count": 13,
      "id": "e04b5ece",
      "metadata": {},
      "outputs": [
        {
          "name": "stderr",
          "output_type": "stream",
          "text": [
            "[nltk_data] Downloading package stopwords to\n",
            "[nltk_data]     /Users/jlangela/nltk_data...\n",
            "[nltk_data]   Package stopwords is already up-to-date!\n"
          ]
        },
        {
          "data": {
            "text/plain": [
              "True"
            ]
          },
          "execution_count": 13,
          "metadata": {},
          "output_type": "execute_result"
        }
      ],
      "source": [
        "nltk.download('stopwords')"
      ]
    },
    {
      "cell_type": "code",
      "execution_count": 14,
      "id": "3390c1ac",
      "metadata": {},
      "outputs": [],
      "source": [
        "from nltk.corpus import stopwords\n",
        "\n",
        "# Get the list of English stop words\n",
        "stop_words = set(stopwords.words('english'))\n",
        "\n",
        "def remove_stop_words(tokens):\n",
        "    \"\"\"Remove stop words from a list of tokens\"\"\"\n",
        "    filtered_tokens = [token for token in tokens if token not in stop_words]\n",
        "    return filtered_tokens"
      ]
    },
    {
      "cell_type": "code",
      "execution_count": 15,
      "id": "3c7b0451",
      "metadata": {},
      "outputs": [
        {
          "data": {
            "text/html": [
              "<div>\n",
              "<style scoped>\n",
              "    .dataframe tbody tr th:only-of-type {\n",
              "        vertical-align: middle;\n",
              "    }\n",
              "\n",
              "    .dataframe tbody tr th {\n",
              "        vertical-align: top;\n",
              "    }\n",
              "\n",
              "    .dataframe thead th {\n",
              "        text-align: right;\n",
              "    }\n",
              "</style>\n",
              "<table border=\"1\" class=\"dataframe\">\n",
              "  <thead>\n",
              "    <tr style=\"text-align: right;\">\n",
              "      <th></th>\n",
              "      <th>label</th>\n",
              "      <th>text</th>\n",
              "    </tr>\n",
              "  </thead>\n",
              "  <tbody>\n",
              "    <tr>\n",
              "      <th>0</th>\n",
              "      <td>hate</td>\n",
              "      <td>hate woman</td>\n",
              "    </tr>\n",
              "    <tr>\n",
              "      <th>1</th>\n",
              "      <td>hate</td>\n",
              "      <td>hate trans people</td>\n",
              "    </tr>\n",
              "    <tr>\n",
              "      <th>2</th>\n",
              "      <td>hate</td>\n",
              "      <td>hate gay people</td>\n",
              "    </tr>\n",
              "    <tr>\n",
              "      <th>3</th>\n",
              "      <td>hate</td>\n",
              "      <td>hate black people</td>\n",
              "    </tr>\n",
              "    <tr>\n",
              "      <th>4</th>\n",
              "      <td>hate</td>\n",
              "      <td>hate disabled people</td>\n",
              "    </tr>\n",
              "  </tbody>\n",
              "</table>\n",
              "</div>"
            ],
            "text/plain": [
              "  label                  text\n",
              "0  hate            hate woman\n",
              "1  hate     hate trans people\n",
              "2  hate       hate gay people\n",
              "3  hate     hate black people\n",
              "4  hate  hate disabled people"
            ]
          },
          "metadata": {},
          "output_type": "display_data"
        }
      ],
      "source": [
        "#Applying it to tokens column\n",
        "df_combine['text'] = df_combine['tokens'].apply(remove_stop_words)\n",
        "df_combine['text_processed'] = df_combine['text'].apply(lambda x: ' '.join(x).replace(',', ''))\n",
        "\n",
        "df_combine.drop(columns=['tokens', 'text'], inplace=True)\n",
        "df_combine = df_combine[df_combine['text_processed'] != \"\"]\n",
        "df_combine.rename(columns={'text_processed': 'text'}, inplace=True)\n",
        "\n",
        "# Display the DataFrame to verify stop words are removed\n",
        "display(df_combine.head())"
      ]
    },
    {
      "cell_type": "code",
      "execution_count": 16,
      "id": "09aa63ad",
      "metadata": {},
      "outputs": [],
      "source": [
        "## saving for BERT Model which tokenizes the text on its own\n",
        "df_combine.to_csv('../datasets/01_preprocessed_datasets/dataset_preprocessed_stopwords.csv', index=False)"
      ]
    },
    {
      "cell_type": "markdown",
      "id": "753b57f2-c334-43bc-a081-d7a14f5331af",
      "metadata": {},
      "source": [
        "### Vectorization "
      ]
    },
    {
      "cell_type": "code",
      "execution_count": 28,
      "id": "26cc2371",
      "metadata": {},
      "outputs": [
        {
          "data": {
            "text/html": [
              "<div>\n",
              "<style scoped>\n",
              "    .dataframe tbody tr th:only-of-type {\n",
              "        vertical-align: middle;\n",
              "    }\n",
              "\n",
              "    .dataframe tbody tr th {\n",
              "        vertical-align: top;\n",
              "    }\n",
              "\n",
              "    .dataframe thead th {\n",
              "        text-align: right;\n",
              "    }\n",
              "</style>\n",
              "<table border=\"1\" class=\"dataframe\">\n",
              "  <thead>\n",
              "    <tr style=\"text-align: right;\">\n",
              "      <th></th>\n",
              "      <th>label</th>\n",
              "      <th>text</th>\n",
              "    </tr>\n",
              "  </thead>\n",
              "  <tbody>\n",
              "    <tr>\n",
              "      <th>0</th>\n",
              "      <td>hate</td>\n",
              "      <td>I hate women.</td>\n",
              "    </tr>\n",
              "    <tr>\n",
              "      <th>1</th>\n",
              "      <td>hate</td>\n",
              "      <td>I hate trans people.</td>\n",
              "    </tr>\n",
              "    <tr>\n",
              "      <th>2</th>\n",
              "      <td>hate</td>\n",
              "      <td>I hate gay people.</td>\n",
              "    </tr>\n",
              "    <tr>\n",
              "      <th>3</th>\n",
              "      <td>hate</td>\n",
              "      <td>I hate black people.</td>\n",
              "    </tr>\n",
              "    <tr>\n",
              "      <th>4</th>\n",
              "      <td>hate</td>\n",
              "      <td>I hate disabled people.</td>\n",
              "    </tr>\n",
              "  </tbody>\n",
              "</table>\n",
              "</div>"
            ],
            "text/plain": [
              "  label                     text\n",
              "0  hate            I hate women.\n",
              "1  hate     I hate trans people.\n",
              "2  hate       I hate gay people.\n",
              "3  hate     I hate black people.\n",
              "4  hate  I hate disabled people."
            ]
          },
          "execution_count": 28,
          "metadata": {},
          "output_type": "execute_result"
        }
      ],
      "source": [
        "import pandas as pd\n",
        "from sklearn.model_selection import train_test_split\n",
        "from sklearn.feature_extraction.text import TfidfVectorizer\n",
        "from sklearn.linear_model import LogisticRegression\n",
        "from sklearn.metrics import accuracy_score, classification_report\n",
        "\n",
        "training_data_raw = pd.read_csv('../datasets/00_output_datasets/dataset_combined.csv')\n",
        "training_data_preprocessed = pd.read_csv('../datasets/01_preprocessed_datasets/dataset_preprocessed_stopwords.csv')\n",
        "\n",
        "training_data_raw.head()\n"
      ]
    },
    {
      "cell_type": "code",
      "execution_count": 29,
      "id": "0460325c",
      "metadata": {},
      "outputs": [],
      "source": [
        "chosen_dataset = training_data_preprocessed"
      ]
    },
    {
      "cell_type": "code",
      "execution_count": 30,
      "id": "90023f65",
      "metadata": {},
      "outputs": [
        {
          "name": "stdout",
          "output_type": "stream",
          "text": [
            "Accuracy: 0.6861448780834577\n",
            "Classification Report:\n",
            "               precision    recall  f1-score   support\n",
            "\n",
            "        hate       0.70      0.74      0.72      7752\n",
            "    not_hate       0.66      0.62      0.64      6315\n",
            "\n",
            "    accuracy                           0.69     14067\n",
            "   macro avg       0.68      0.68      0.68     14067\n",
            "weighted avg       0.68      0.69      0.68     14067\n",
            "\n"
          ]
        }
      ],
      "source": [
        "# Splitting the dataset into training and testing sets\n",
        "X_train, X_test, y_train, y_test = train_test_split(chosen_dataset['text'], \n",
        "                                                    chosen_dataset['label'], \n",
        "                                                    test_size=0.3, \n",
        "                                                    random_state=42)\n",
        "\n",
        "# Applying TF-IDF Vectorization\n",
        "tfidf_vectorizer = TfidfVectorizer()\n",
        "X_train_tfidf = tfidf_vectorizer.fit_transform(X_train)\n",
        "X_test_tfidf = tfidf_vectorizer.transform(X_test)\n",
        "\n",
        "# Training a Logistic Regression model\n",
        "logistic_regression_model = LogisticRegression()\n",
        "logistic_regression_model.fit(X_train_tfidf, y_train)\n",
        "\n",
        "# Predicting the labels for the test set\n",
        "y_pred = logistic_regression_model.predict(X_test_tfidf)\n",
        "\n",
        "# Evaluating the model\n",
        "accuracy = accuracy_score(y_test, y_pred)\n",
        "classification_rep = classification_report(y_test, y_pred)\n",
        "\n",
        "print(\"Accuracy:\", accuracy)\n",
        "print(\"Classification Report:\\n\", classification_rep)"
      ]
    },
    {
      "cell_type": "code",
      "execution_count": 31,
      "id": "c8563060",
      "metadata": {},
      "outputs": [],
      "source": [
        "import numpy as np\n",
        "\n",
        "glove_dimensions = 300\n",
        "glove_billion_tokens = 840\n",
        "\n",
        "def load_glove_embeddings(glove_file):\n",
        "    embeddings_index = {}\n",
        "    with open(glove_file, 'r', encoding='utf-8') as f:\n",
        "        for line in f:\n",
        "            values = line.rsplit(' ', glove_dimensions)\n",
        "            word = values[0]\n",
        "            vector = np.asarray(values[1:], dtype='float32')\n",
        "            embeddings_index[word] = vector\n",
        "    return embeddings_index\n",
        "\n",
        "glove_path = f'../datasets/embeddings/glove/glove.{glove_billion_tokens}B.{glove_dimensions}d.txt'\n",
        "glove_embeddings = load_glove_embeddings(glove_path)\n"
      ]
    },
    {
      "cell_type": "code",
      "execution_count": 32,
      "id": "b6bfef61",
      "metadata": {},
      "outputs": [],
      "source": [
        "def vectorize_text(text, embeddings_dict, dimensions=glove_dimensions):\n",
        "    words = text.split()\n",
        "    vectors = [embeddings_dict.get(word, np.zeros((dimensions,))) for word in words]\n",
        "    return np.mean(vectors, axis=0) if vectors else np.zeros((dimensions,))\n",
        "\n",
        "X_train_glove = np.array([vectorize_text(text, glove_embeddings) for text in X_train])\n",
        "X_test_glove = np.array([vectorize_text(text, glove_embeddings) for text in X_test])\n"
      ]
    },
    {
      "cell_type": "code",
      "execution_count": 33,
      "id": "92f2b705",
      "metadata": {},
      "outputs": [],
      "source": [
        "from gensim.models import Word2Vec\n",
        "from gensim.models import KeyedVectors\n",
        "\n",
        "word2vec_path = '../datasets/embeddings/word2vec/GoogleNews-vectors-negative300.bin'\n",
        "\n",
        "# Load the pre-trained Word2Vec model\n",
        "word2vec_model = KeyedVectors.load_word2vec_format(word2vec_path, binary=True)\n",
        "\n",
        "# Vectorize your text data using Word2Vec embeddings\n",
        "def vectorize_text_with_word2vec(text, word2vec_model):\n",
        "    vectors = [word2vec_model[word] for word in text if word in word2vec_model]\n",
        "    return np.mean(vectors, axis=0) if vectors else np.zeros(word2vec_model.vector_size)\n",
        "\n",
        "# Assuming you have your text data stored in a list called text_data\n",
        "X_train_word2vec = np.array([vectorize_text_with_word2vec(text, word2vec_model) for text in X_train])\n",
        "X_test_word2vec = np.array([vectorize_text_with_word2vec(text, word2vec_model) for text in X_test])"
      ]
    },
    {
      "cell_type": "code",
      "execution_count": 34,
      "id": "da836485",
      "metadata": {},
      "outputs": [
        {
          "name": "stdout",
          "output_type": "stream",
          "text": [
            "Accuracy with GloVe: 0.672709177507642\n",
            "Classification Report with GloVe:\n",
            "               precision    recall  f1-score   support\n",
            "\n",
            "        hate       0.69      0.73      0.71      7752\n",
            "    not_hate       0.65      0.60      0.62      6315\n",
            "\n",
            "    accuracy                           0.67     14067\n",
            "   macro avg       0.67      0.67      0.67     14067\n",
            "weighted avg       0.67      0.67      0.67     14067\n",
            "\n"
          ]
        }
      ],
      "source": [
        "logistic_regression_model_glove = LogisticRegression()\n",
        "logistic_regression_model_glove.fit(X_train_glove, y_train)\n",
        "\n",
        "# Predicting and evaluating\n",
        "y_pred_glove = logistic_regression_model_glove.predict(X_test_glove)\n",
        "accuracy_glove = accuracy_score(y_test, y_pred_glove)\n",
        "classification_rep_glove = classification_report(y_test, y_pred_glove)\n",
        "\n",
        "print(\"Accuracy with GloVe:\", accuracy_glove)\n",
        "print(\"Classification Report with GloVe:\\n\", classification_rep_glove)\n"
      ]
    },
    {
      "cell_type": "code",
      "execution_count": 35,
      "id": "d96be703",
      "metadata": {},
      "outputs": [],
      "source": [
        "def benchmark_models_vectorizations(models, vectorized_data_sets, y_train, y_test):\n",
        "    \"\"\"\n",
        "    Train and evaluate multiple models on multiple vectorized data sets.\n",
        "\n",
        "    Args:\n",
        "    - models (list of tuples): A list where each tuple contains a model instance and its name as a string.\n",
        "    - vectorized_data_sets (list of tuples): A list where each tuple contains vectorized training and testing data (X_train_vec, X_test_vec) along with a descriptor string.\n",
        "    - y_train (array-like): Training labels.\n",
        "    - y_test (array-like): Testing labels.\n",
        "\n",
        "    Returns:\n",
        "    - results (dict): A dictionary containing accuracy and classification report for each model and vectorization approach.\n",
        "    \"\"\"\n",
        "    results = {}\n",
        "    for model_name, model in models:\n",
        "        for vec_name, (X_train_vec, X_test_vec) in vectorized_data_sets:\n",
        "            # Train the model\n",
        "            model.fit(X_train_vec, y_train)\n",
        "\n",
        "            # Predict and evaluate the model\n",
        "            y_pred = model.predict(X_test_vec)\n",
        "            accuracy = accuracy_score(y_test, y_pred)\n",
        "            report = classification_report(y_test, y_pred, output_dict=True)\n",
        "\n",
        "            # Store the results\n",
        "            key_name = f\"{model_name} with {vec_name}\"\n",
        "            results[key_name] = {\n",
        "                'Accuracy': accuracy,\n",
        "                'Classification_Report': report\n",
        "            }\n",
        "\n",
        "    return results\n"
      ]
    },
    {
      "cell_type": "code",
      "execution_count": 36,
      "id": "f41f425a",
      "metadata": {},
      "outputs": [
        {
          "name": "stdout",
          "output_type": "stream",
          "text": [
            "Logistic Regression with TF-IDF:\n",
            "Accuracy: 0.6861448780834577\n",
            "  hate - Precision: 0.70, Recall: 0.74, F1-Score: 0.72\n",
            "  not_hate - Precision: 0.66, Recall: 0.62, F1-Score: 0.64\n",
            "  macro avg - Precision: 0.68, Recall: 0.68, F1-Score: 0.68\n",
            "  weighted avg - Precision: 0.68, Recall: 0.69, F1-Score: 0.68\n",
            "\n",
            "Logistic Regression with GloVe:\n",
            "Accuracy: 0.672709177507642\n",
            "  hate - Precision: 0.69, Recall: 0.73, F1-Score: 0.71\n",
            "  not_hate - Precision: 0.65, Recall: 0.60, F1-Score: 0.62\n",
            "  macro avg - Precision: 0.67, Recall: 0.67, F1-Score: 0.67\n",
            "  weighted avg - Precision: 0.67, Recall: 0.67, F1-Score: 0.67\n",
            "\n",
            "Logistic Regression with Word2Vec:\n",
            "Accuracy: 0.5709817302907514\n",
            "  hate - Precision: 0.58, Recall: 0.82, F1-Score: 0.68\n",
            "  not_hate - Precision: 0.55, Recall: 0.26, F1-Score: 0.36\n",
            "  macro avg - Precision: 0.56, Recall: 0.54, F1-Score: 0.52\n",
            "  weighted avg - Precision: 0.56, Recall: 0.57, F1-Score: 0.53\n",
            "\n"
          ]
        }
      ],
      "source": [
        "models = [\n",
        "    ('Logistic Regression', LogisticRegression(max_iter=1000)),\n",
        "]\n",
        "\n",
        "vectorized_data_sets = [\n",
        "    ('TF-IDF', (X_train_tfidf, X_test_tfidf)),\n",
        "    ('GloVe', (X_train_glove, X_test_glove)),\n",
        "    ('Word2Vec', (X_train_word2vec, X_test_word2vec))\n",
        "]\n",
        "\n",
        "results = benchmark_models_vectorizations(models, vectorized_data_sets, y_train, y_test)\n",
        "\n",
        "for setup, result in results.items():\n",
        "    print(f\"{setup}:\")\n",
        "    print(f\"Accuracy: {result['Accuracy']}\")\n",
        "    for label, scores in result['Classification_Report'].items():\n",
        "        if isinstance(scores, dict):\n",
        "            print(f\"  {label} - Precision: {scores['precision']:.2f}, Recall: {scores['recall']:.2f}, F1-Score: {scores['f1-score']:.2f}\")\n",
        "    print()\n"
      ]
    }
  ],
  "metadata": {
    "kernelspec": {
      "display_name": "Python 3 (ipykernel)",
      "language": "python",
      "name": "python3"
    },
    "language_info": {
      "codemirror_mode": {
        "name": "ipython",
        "version": 3
      },
      "file_extension": ".py",
      "mimetype": "text/x-python",
      "name": "python",
      "nbconvert_exporter": "python",
      "pygments_lexer": "ipython3",
      "version": "3.11.8"
    }
  },
  "nbformat": 4,
  "nbformat_minor": 5
}
