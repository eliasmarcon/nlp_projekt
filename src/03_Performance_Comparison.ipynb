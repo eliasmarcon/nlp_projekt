{
 "cells": [
  {
   "cell_type": "code",
   "execution_count": 1,
   "metadata": {},
   "outputs": [],
   "source": [
    "import os\n",
    "import torch\n",
    "from torch import nn\n",
    "from torch.utils.data import DataLoader, Dataset\n",
    "from transformers import BertTokenizer, BertModel, get_linear_schedule_with_warmup\n",
    "from sklearn.model_selection import train_test_split\n",
    "from sklearn.metrics import accuracy_score, classification_report\n",
    "import pandas as pd"
   ]
  },
  {
   "cell_type": "code",
   "execution_count": null,
   "metadata": {},
   "outputs": [],
   "source": [
    "# load the dataset\n",
    "df = pd.read_csv('../preprocessed_dataset/dataset_preprocessed.csv')\n",
    "\n",
    "# map hate to 1 and non-hate to 0\n",
    "df['label'] = df['label'].map({'hate': 1, 'not_hate': 0})\n",
    "\n",
    "sentences = df['text'].values\n",
    "labels = df['label'].values\n",
    "\n",
    "\n",
    "# split the dataset 0.6, 0.2, 0.2\n",
    "train_sentences, test_sentences, train_labels, test_labels = train_test_split(sentences, labels, test_size=0.2, random_state=42)\n",
    "train_sentences, val_sentences, train_labels, val_labels = train_test_split(train_sentences, train_labels, test_size=0.2, random_state=42)"
   ]
  },
  {
   "cell_type": "code",
   "execution_count": null,
   "metadata": {},
   "outputs": [],
   "source": [
    "# Load model directly\n",
    "from transformers import AutoTokenizer, AutoModelForSequenceClassification\n",
    "\n",
    "model = AutoModelForSequenceClassification.from_pretrained(\"Hate-speech-CNERG/bert-base-uncased-hatexplain-rationale-two\")\n",
    "tokenizer = AutoTokenizer.from_pretrained(\"Hate-speech-CNERG/bert-base-uncased-hatexplain-rationale-two\")\n",
    "\n",
    "# Define label mapping\n",
    "label_mapping = {\n",
    "    0: \"not_hate\",\n",
    "    1: \"hate\"\n",
    "}\n",
    "\n",
    "# Encode the input text\n",
    "inputs = tokenizer(\"I kill arabs.\", return_tensors=\"pt\")\n",
    "\n",
    "# Get the model outputs\n",
    "outputs = model(**inputs)\n",
    "\n",
    "# Extract predicted label and score\n",
    "predicted_label = torch.argmax(outputs.logits, dim=1).item()\n",
    "predicted_label_text = label_mapping[predicted_label]\n",
    "predicted_score = torch.softmax(outputs.logits, dim=1)[0][predicted_label].item()\n",
    "\n",
    "print(\"Softmax:\", torch.softmax(outputs.logits, dim=1))\n",
    "print(\"Predicted Label:\", predicted_label_text)\n",
    "print(\"Predicted Score:\", predicted_score)"
   ]
  }
 ],
 "metadata": {
  "kernelspec": {
   "display_name": "Python 3",
   "language": "python",
   "name": "python3"
  },
  "language_info": {
   "codemirror_mode": {
    "name": "ipython",
    "version": 3
   },
   "file_extension": ".py",
   "mimetype": "text/x-python",
   "name": "python",
   "nbconvert_exporter": "python",
   "pygments_lexer": "ipython3",
   "version": "3.11.4"
  }
 },
 "nbformat": 4,
 "nbformat_minor": 2
}
