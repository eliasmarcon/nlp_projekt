{
 "cells": [
  {
   "cell_type": "markdown",
   "id": "9bf24a32-a6e3-4cfa-a44b-d84e038fa632",
   "metadata": {},
   "source": [
    "# NLP project - Hate Speech\n",
    "\n",
    "HateHaters\n",
    "- Bittner Bodowin,\n",
    "- Langela Regincos Jan,\n",
    "- Marcon Elias \n",
    "\n",
    "NLP projects play a vital role in combating hate speech online, fostering a safer and more inclusive digital environment\n",
    "Robust NLP models are crucial for accurately detecting and addressing instances of hate speech across various online platforms\n",
    "Detection tools help mitigate the harmful effects of hate speech, promoting respectful and constructive online interactions\n",
    "\n",
    "Used datasets:\n",
    "\n",
    "- Paul Rottger – Hate Check (https://github.com/paul-rottger/hatecheck-data)\n",
    "- Dynamically Generated Hate Speech Dataset(https://github.com/paul-rottger/hatecheck-data/blob/main/test_suite_cases.csv)\n",
    "\n"
   ]
  },
  {
   "cell_type": "code",
   "execution_count": 1,
   "id": "d287fc35-7dad-474a-8dd4-6b77e6cc5ea5",
   "metadata": {},
   "outputs": [],
   "source": [
    "import pandas as pd\n",
    "\n",
    "# Load the datasets\n",
    "test_suite_df = pd.read_csv('test_suite_cases.csv')\n",
    "hate1_df = pd.read_csv('hate1.csv')\n",
    "\n"
   ]
  },
  {
   "cell_type": "code",
   "execution_count": 2,
   "id": "3e7825e8-3eb1-4126-9ccb-b2124e14ab9b",
   "metadata": {},
   "outputs": [
    {
     "data": {
      "text/html": [
       "<div>\n",
       "<style scoped>\n",
       "    .dataframe tbody tr th:only-of-type {\n",
       "        vertical-align: middle;\n",
       "    }\n",
       "\n",
       "    .dataframe tbody tr th {\n",
       "        vertical-align: top;\n",
       "    }\n",
       "\n",
       "    .dataframe thead th {\n",
       "        text-align: right;\n",
       "    }\n",
       "</style>\n",
       "<table border=\"1\" class=\"dataframe\">\n",
       "  <thead>\n",
       "    <tr style=\"text-align: right;\">\n",
       "      <th></th>\n",
       "      <th>Unnamed: 0</th>\n",
       "      <th>functionality</th>\n",
       "      <th>case_id</th>\n",
       "      <th>test_case</th>\n",
       "      <th>label_gold</th>\n",
       "      <th>target_ident</th>\n",
       "      <th>direction</th>\n",
       "      <th>focus_words</th>\n",
       "      <th>focus_lemma</th>\n",
       "      <th>ref_case_id</th>\n",
       "      <th>ref_templ_id</th>\n",
       "      <th>templ_id</th>\n",
       "      <th>case_templ</th>\n",
       "    </tr>\n",
       "  </thead>\n",
       "  <tbody>\n",
       "    <tr>\n",
       "      <th>0</th>\n",
       "      <td>0</td>\n",
       "      <td>derog_neg_emote_h</td>\n",
       "      <td>1</td>\n",
       "      <td>I hate women.</td>\n",
       "      <td>hateful</td>\n",
       "      <td>women</td>\n",
       "      <td>general</td>\n",
       "      <td>hate</td>\n",
       "      <td>hate</td>\n",
       "      <td>NaN</td>\n",
       "      <td>NaN</td>\n",
       "      <td>1</td>\n",
       "      <td>I hate [IDENTITY_P].</td>\n",
       "    </tr>\n",
       "    <tr>\n",
       "      <th>1</th>\n",
       "      <td>1</td>\n",
       "      <td>derog_neg_emote_h</td>\n",
       "      <td>2</td>\n",
       "      <td>I hate trans people.</td>\n",
       "      <td>hateful</td>\n",
       "      <td>trans people</td>\n",
       "      <td>general</td>\n",
       "      <td>hate</td>\n",
       "      <td>hate</td>\n",
       "      <td>NaN</td>\n",
       "      <td>NaN</td>\n",
       "      <td>1</td>\n",
       "      <td>I hate [IDENTITY_P].</td>\n",
       "    </tr>\n",
       "    <tr>\n",
       "      <th>2</th>\n",
       "      <td>2</td>\n",
       "      <td>derog_neg_emote_h</td>\n",
       "      <td>3</td>\n",
       "      <td>I hate gay people.</td>\n",
       "      <td>hateful</td>\n",
       "      <td>gay people</td>\n",
       "      <td>general</td>\n",
       "      <td>hate</td>\n",
       "      <td>hate</td>\n",
       "      <td>NaN</td>\n",
       "      <td>NaN</td>\n",
       "      <td>1</td>\n",
       "      <td>I hate [IDENTITY_P].</td>\n",
       "    </tr>\n",
       "    <tr>\n",
       "      <th>3</th>\n",
       "      <td>3</td>\n",
       "      <td>derog_neg_emote_h</td>\n",
       "      <td>4</td>\n",
       "      <td>I hate black people.</td>\n",
       "      <td>hateful</td>\n",
       "      <td>black people</td>\n",
       "      <td>general</td>\n",
       "      <td>hate</td>\n",
       "      <td>hate</td>\n",
       "      <td>NaN</td>\n",
       "      <td>NaN</td>\n",
       "      <td>1</td>\n",
       "      <td>I hate [IDENTITY_P].</td>\n",
       "    </tr>\n",
       "    <tr>\n",
       "      <th>4</th>\n",
       "      <td>4</td>\n",
       "      <td>derog_neg_emote_h</td>\n",
       "      <td>5</td>\n",
       "      <td>I hate disabled people.</td>\n",
       "      <td>hateful</td>\n",
       "      <td>disabled people</td>\n",
       "      <td>general</td>\n",
       "      <td>hate</td>\n",
       "      <td>hate</td>\n",
       "      <td>NaN</td>\n",
       "      <td>NaN</td>\n",
       "      <td>1</td>\n",
       "      <td>I hate [IDENTITY_P].</td>\n",
       "    </tr>\n",
       "  </tbody>\n",
       "</table>\n",
       "</div>"
      ],
      "text/plain": [
       "   Unnamed: 0      functionality  case_id                 test_case  \\\n",
       "0           0  derog_neg_emote_h        1            I hate women.    \n",
       "1           1  derog_neg_emote_h        2     I hate trans people.    \n",
       "2           2  derog_neg_emote_h        3       I hate gay people.    \n",
       "3           3  derog_neg_emote_h        4     I hate black people.    \n",
       "4           4  derog_neg_emote_h        5  I hate disabled people.    \n",
       "\n",
       "  label_gold     target_ident direction focus_words focus_lemma  ref_case_id  \\\n",
       "0    hateful            women   general        hate        hate          NaN   \n",
       "1    hateful     trans people   general        hate        hate          NaN   \n",
       "2    hateful       gay people   general        hate        hate          NaN   \n",
       "3    hateful     black people   general        hate        hate          NaN   \n",
       "4    hateful  disabled people   general        hate        hate          NaN   \n",
       "\n",
       "   ref_templ_id  templ_id            case_templ  \n",
       "0           NaN         1  I hate [IDENTITY_P].  \n",
       "1           NaN         1  I hate [IDENTITY_P].  \n",
       "2           NaN         1  I hate [IDENTITY_P].  \n",
       "3           NaN         1  I hate [IDENTITY_P].  \n",
       "4           NaN         1  I hate [IDENTITY_P].  "
      ]
     },
     "metadata": {},
     "output_type": "display_data"
    }
   ],
   "source": [
    "# Displaying the top 5 rows of each dataframe including the column names\n",
    "top5_test_suite = test_suite_df.head()\n",
    "top5_hate1 = hate1_df.head()\n",
    "\n",
    "display(top5_test_suite) # top5_hate1"
   ]
  },
  {
   "cell_type": "code",
   "execution_count": 3,
   "id": "0b0d9bf4-2132-418d-a33b-e1566b393a8f",
   "metadata": {},
   "outputs": [
    {
     "data": {
      "text/html": [
       "<div>\n",
       "<style scoped>\n",
       "    .dataframe tbody tr th:only-of-type {\n",
       "        vertical-align: middle;\n",
       "    }\n",
       "\n",
       "    .dataframe tbody tr th {\n",
       "        vertical-align: top;\n",
       "    }\n",
       "\n",
       "    .dataframe thead th {\n",
       "        text-align: right;\n",
       "    }\n",
       "</style>\n",
       "<table border=\"1\" class=\"dataframe\">\n",
       "  <thead>\n",
       "    <tr style=\"text-align: right;\">\n",
       "      <th></th>\n",
       "      <th>Unnamed: 0</th>\n",
       "      <th>acl.id</th>\n",
       "      <th>X1</th>\n",
       "      <th>text</th>\n",
       "      <th>label</th>\n",
       "      <th>type</th>\n",
       "      <th>target</th>\n",
       "      <th>level</th>\n",
       "      <th>split</th>\n",
       "      <th>round.base</th>\n",
       "      <th>annotator</th>\n",
       "      <th>round</th>\n",
       "      <th>acl.id.matched</th>\n",
       "    </tr>\n",
       "  </thead>\n",
       "  <tbody>\n",
       "    <tr>\n",
       "      <th>0</th>\n",
       "      <td>1</td>\n",
       "      <td>acl1</td>\n",
       "      <td>1</td>\n",
       "      <td>dalits are lowlives</td>\n",
       "      <td>hate</td>\n",
       "      <td>notgiven</td>\n",
       "      <td>notgiven</td>\n",
       "      <td>original</td>\n",
       "      <td>train</td>\n",
       "      <td>1</td>\n",
       "      <td>GNZuCtwed3</td>\n",
       "      <td>1</td>\n",
       "      <td>NaN</td>\n",
       "    </tr>\n",
       "    <tr>\n",
       "      <th>1</th>\n",
       "      <td>2</td>\n",
       "      <td>acl10</td>\n",
       "      <td>2</td>\n",
       "      <td>gay people are a burden to our society</td>\n",
       "      <td>hate</td>\n",
       "      <td>notgiven</td>\n",
       "      <td>notgiven</td>\n",
       "      <td>original</td>\n",
       "      <td>train</td>\n",
       "      <td>1</td>\n",
       "      <td>GNZuCtwed3</td>\n",
       "      <td>1</td>\n",
       "      <td>NaN</td>\n",
       "    </tr>\n",
       "    <tr>\n",
       "      <th>2</th>\n",
       "      <td>3</td>\n",
       "      <td>acl100</td>\n",
       "      <td>3</td>\n",
       "      <td>Arabs are not welcome</td>\n",
       "      <td>hate</td>\n",
       "      <td>notgiven</td>\n",
       "      <td>notgiven</td>\n",
       "      <td>original</td>\n",
       "      <td>train</td>\n",
       "      <td>1</td>\n",
       "      <td>vDe7GN0NrL</td>\n",
       "      <td>1</td>\n",
       "      <td>NaN</td>\n",
       "    </tr>\n",
       "    <tr>\n",
       "      <th>3</th>\n",
       "      <td>4</td>\n",
       "      <td>acl1000</td>\n",
       "      <td>4</td>\n",
       "      <td>I'm not saying we should actually eliminate he...</td>\n",
       "      <td>hate</td>\n",
       "      <td>notgiven</td>\n",
       "      <td>notgiven</td>\n",
       "      <td>original</td>\n",
       "      <td>train</td>\n",
       "      <td>1</td>\n",
       "      <td>oemYWm1Tjg</td>\n",
       "      <td>1</td>\n",
       "      <td>NaN</td>\n",
       "    </tr>\n",
       "    <tr>\n",
       "      <th>4</th>\n",
       "      <td>5</td>\n",
       "      <td>acl10000</td>\n",
       "      <td>5</td>\n",
       "      <td>bananas are for black people</td>\n",
       "      <td>hate</td>\n",
       "      <td>notgiven</td>\n",
       "      <td>notgiven</td>\n",
       "      <td>original</td>\n",
       "      <td>test</td>\n",
       "      <td>1</td>\n",
       "      <td>QiOKkCi7F8</td>\n",
       "      <td>1</td>\n",
       "      <td>NaN</td>\n",
       "    </tr>\n",
       "  </tbody>\n",
       "</table>\n",
       "</div>"
      ],
      "text/plain": [
       "   Unnamed: 0    acl.id  X1  \\\n",
       "0           1      acl1   1   \n",
       "1           2     acl10   2   \n",
       "2           3    acl100   3   \n",
       "3           4   acl1000   4   \n",
       "4           5  acl10000   5   \n",
       "\n",
       "                                                text label      type  \\\n",
       "0                                dalits are lowlives  hate  notgiven   \n",
       "1             gay people are a burden to our society  hate  notgiven   \n",
       "2                              Arabs are not welcome  hate  notgiven   \n",
       "3  I'm not saying we should actually eliminate he...  hate  notgiven   \n",
       "4                       bananas are for black people  hate  notgiven   \n",
       "\n",
       "     target     level  split  round.base   annotator round acl.id.matched  \n",
       "0  notgiven  original  train           1  GNZuCtwed3     1            NaN  \n",
       "1  notgiven  original  train           1  GNZuCtwed3     1            NaN  \n",
       "2  notgiven  original  train           1  vDe7GN0NrL     1            NaN  \n",
       "3  notgiven  original  train           1  oemYWm1Tjg     1            NaN  \n",
       "4  notgiven  original   test           1  QiOKkCi7F8     1            NaN  "
      ]
     },
     "metadata": {},
     "output_type": "display_data"
    }
   ],
   "source": [
    "display(top5_hate1)"
   ]
  },
  {
   "cell_type": "markdown",
   "id": "d3d880b3-c892-498c-a908-c7feecb858b4",
   "metadata": {},
   "source": [
    "### What we want to keep for test_cases:\n",
    "- text\n",
    "- label"
   ]
  },
  {
   "cell_type": "code",
   "execution_count": 4,
   "id": "4433672c-6e48-443c-af38-362a46de15b7",
   "metadata": {},
   "outputs": [
    {
     "name": "stderr",
     "output_type": "stream",
     "text": [
      "C:\\Users\\Bodowin1\\AppData\\Local\\Temp\\ipykernel_36768\\3156995078.py:3: SettingWithCopyWarning: \n",
      "A value is trying to be set on a copy of a slice from a DataFrame\n",
      "\n",
      "See the caveats in the documentation: https://pandas.pydata.org/pandas-docs/stable/user_guide/indexing.html#returning-a-view-versus-a-copy\n",
      "  test_suite.rename(columns={'label_gold': 'label', 'test_case': 'text'}, inplace=True)\n"
     ]
    },
    {
     "data": {
      "text/html": [
       "<div>\n",
       "<style scoped>\n",
       "    .dataframe tbody tr th:only-of-type {\n",
       "        vertical-align: middle;\n",
       "    }\n",
       "\n",
       "    .dataframe tbody tr th {\n",
       "        vertical-align: top;\n",
       "    }\n",
       "\n",
       "    .dataframe thead th {\n",
       "        text-align: right;\n",
       "    }\n",
       "</style>\n",
       "<table border=\"1\" class=\"dataframe\">\n",
       "  <thead>\n",
       "    <tr style=\"text-align: right;\">\n",
       "      <th></th>\n",
       "      <th>label</th>\n",
       "      <th>text</th>\n",
       "    </tr>\n",
       "  </thead>\n",
       "  <tbody>\n",
       "    <tr>\n",
       "      <th>0</th>\n",
       "      <td>hateful</td>\n",
       "      <td>I hate women.</td>\n",
       "    </tr>\n",
       "    <tr>\n",
       "      <th>1</th>\n",
       "      <td>hateful</td>\n",
       "      <td>I hate trans people.</td>\n",
       "    </tr>\n",
       "    <tr>\n",
       "      <th>2</th>\n",
       "      <td>hateful</td>\n",
       "      <td>I hate gay people.</td>\n",
       "    </tr>\n",
       "    <tr>\n",
       "      <th>3</th>\n",
       "      <td>hateful</td>\n",
       "      <td>I hate black people.</td>\n",
       "    </tr>\n",
       "    <tr>\n",
       "      <th>4</th>\n",
       "      <td>hateful</td>\n",
       "      <td>I hate disabled people.</td>\n",
       "    </tr>\n",
       "  </tbody>\n",
       "</table>\n",
       "</div>"
      ],
      "text/plain": [
       "     label                      text\n",
       "0  hateful            I hate women. \n",
       "1  hateful     I hate trans people. \n",
       "2  hateful       I hate gay people. \n",
       "3  hateful     I hate black people. \n",
       "4  hateful  I hate disabled people. "
      ]
     },
     "metadata": {},
     "output_type": "display_data"
    }
   ],
   "source": [
    "test_suite = test_suite_df[[\"label_gold\", \"test_case\"]]\n",
    "\n",
    "test_suite.rename(columns={'label_gold': 'label', 'test_case': 'text'}, inplace=True)\n",
    "\n",
    "display(test_suite.head())"
   ]
  },
  {
   "cell_type": "code",
   "execution_count": 5,
   "id": "23b8c790-8da8-45ff-8051-6c0f24717d98",
   "metadata": {},
   "outputs": [
    {
     "data": {
      "text/html": [
       "<div>\n",
       "<style scoped>\n",
       "    .dataframe tbody tr th:only-of-type {\n",
       "        vertical-align: middle;\n",
       "    }\n",
       "\n",
       "    .dataframe tbody tr th {\n",
       "        vertical-align: top;\n",
       "    }\n",
       "\n",
       "    .dataframe thead th {\n",
       "        text-align: right;\n",
       "    }\n",
       "</style>\n",
       "<table border=\"1\" class=\"dataframe\">\n",
       "  <thead>\n",
       "    <tr style=\"text-align: right;\">\n",
       "      <th></th>\n",
       "      <th>label</th>\n",
       "      <th>text</th>\n",
       "    </tr>\n",
       "  </thead>\n",
       "  <tbody>\n",
       "    <tr>\n",
       "      <th>0</th>\n",
       "      <td>hate</td>\n",
       "      <td>dalits are lowlives</td>\n",
       "    </tr>\n",
       "    <tr>\n",
       "      <th>1</th>\n",
       "      <td>hate</td>\n",
       "      <td>gay people are a burden to our society</td>\n",
       "    </tr>\n",
       "    <tr>\n",
       "      <th>2</th>\n",
       "      <td>hate</td>\n",
       "      <td>Arabs are not welcome</td>\n",
       "    </tr>\n",
       "    <tr>\n",
       "      <th>3</th>\n",
       "      <td>hate</td>\n",
       "      <td>I'm not saying we should actually eliminate he...</td>\n",
       "    </tr>\n",
       "    <tr>\n",
       "      <th>4</th>\n",
       "      <td>hate</td>\n",
       "      <td>bananas are for black people</td>\n",
       "    </tr>\n",
       "  </tbody>\n",
       "</table>\n",
       "</div>"
      ],
      "text/plain": [
       "  label                                               text\n",
       "0  hate                                dalits are lowlives\n",
       "1  hate             gay people are a burden to our society\n",
       "2  hate                              Arabs are not welcome\n",
       "3  hate  I'm not saying we should actually eliminate he...\n",
       "4  hate                       bananas are for black people"
      ]
     },
     "metadata": {},
     "output_type": "display_data"
    }
   ],
   "source": [
    "hate1 = hate1_df[[\"label\", \"text\"]]\n",
    "\n",
    "display(hate1.head())"
   ]
  },
  {
   "cell_type": "code",
   "execution_count": 6,
   "id": "73fae292-81b8-4a07-8576-d2db3f891739",
   "metadata": {},
   "outputs": [
    {
     "data": {
      "text/html": [
       "<div>\n",
       "<style scoped>\n",
       "    .dataframe tbody tr th:only-of-type {\n",
       "        vertical-align: middle;\n",
       "    }\n",
       "\n",
       "    .dataframe tbody tr th {\n",
       "        vertical-align: top;\n",
       "    }\n",
       "\n",
       "    .dataframe thead th {\n",
       "        text-align: right;\n",
       "    }\n",
       "</style>\n",
       "<table border=\"1\" class=\"dataframe\">\n",
       "  <thead>\n",
       "    <tr style=\"text-align: right;\">\n",
       "      <th></th>\n",
       "      <th>label</th>\n",
       "      <th>text</th>\n",
       "    </tr>\n",
       "  </thead>\n",
       "  <tbody>\n",
       "    <tr>\n",
       "      <th>0</th>\n",
       "      <td>hateful</td>\n",
       "      <td>I hate women.</td>\n",
       "    </tr>\n",
       "    <tr>\n",
       "      <th>1</th>\n",
       "      <td>hateful</td>\n",
       "      <td>I hate trans people.</td>\n",
       "    </tr>\n",
       "    <tr>\n",
       "      <th>2</th>\n",
       "      <td>hateful</td>\n",
       "      <td>I hate gay people.</td>\n",
       "    </tr>\n",
       "    <tr>\n",
       "      <th>3</th>\n",
       "      <td>hateful</td>\n",
       "      <td>I hate black people.</td>\n",
       "    </tr>\n",
       "    <tr>\n",
       "      <th>4</th>\n",
       "      <td>hateful</td>\n",
       "      <td>I hate disabled people.</td>\n",
       "    </tr>\n",
       "  </tbody>\n",
       "</table>\n",
       "</div>"
      ],
      "text/plain": [
       "     label                      text\n",
       "0  hateful            I hate women. \n",
       "1  hateful     I hate trans people. \n",
       "2  hateful       I hate gay people. \n",
       "3  hateful     I hate black people. \n",
       "4  hateful  I hate disabled people. "
      ]
     },
     "metadata": {},
     "output_type": "display_data"
    }
   ],
   "source": [
    "df_combine = pd.concat([test_suite, hate1], axis=0)\n",
    "\n",
    "display(df_combine.head())"
   ]
  },
  {
   "cell_type": "code",
   "execution_count": 7,
   "id": "14e25c5b-86fa-4c95-95ce-17010c84a269",
   "metadata": {},
   "outputs": [
    {
     "data": {
      "text/plain": [
       "hate           22175\n",
       "nothate        18969\n",
       "hateful         2563\n",
       "non-hateful     1165\n",
       "Name: label, dtype: int64"
      ]
     },
     "execution_count": 7,
     "metadata": {},
     "output_type": "execute_result"
    }
   ],
   "source": [
    "df_combine.label.value_counts()"
   ]
  },
  {
   "cell_type": "code",
   "execution_count": 8,
   "id": "12a41047-473d-4482-822f-bbde5da23eb6",
   "metadata": {},
   "outputs": [
    {
     "data": {
      "text/plain": [
       "hate        24738\n",
       "not_hate    20134\n",
       "Name: label, dtype: int64"
      ]
     },
     "execution_count": 8,
     "metadata": {},
     "output_type": "execute_result"
    }
   ],
   "source": [
    "\n",
    "# Replace the values\n",
    "df_combine['label'].replace({\n",
    "    'hateful': 'hate',\n",
    "    'nothate': 'not_hate',\n",
    "    'non-hateful': 'not_hate'\n",
    "}, inplace=True)\n",
    "\n",
    "df_combine.label.value_counts()"
   ]
  },
  {
   "cell_type": "markdown",
   "id": "a4961f4b-5c98-4665-a04a-6283e35343e0",
   "metadata": {},
   "source": [
    "## Pre-processing standard Workflow"
   ]
  },
  {
   "cell_type": "code",
   "execution_count": 9,
   "id": "faacc378-f338-41ea-b2b3-f2807ecdfb27",
   "metadata": {},
   "outputs": [],
   "source": [
    "#Text Cleaning (Removing special characters & numbers and handling contractions)"
   ]
  },
  {
   "cell_type": "code",
   "execution_count": 10,
   "id": "457d2201-1c09-4d93-a57f-4ee94c931f09",
   "metadata": {},
   "outputs": [
    {
     "data": {
      "text/html": [
       "<div>\n",
       "<style scoped>\n",
       "    .dataframe tbody tr th:only-of-type {\n",
       "        vertical-align: middle;\n",
       "    }\n",
       "\n",
       "    .dataframe tbody tr th {\n",
       "        vertical-align: top;\n",
       "    }\n",
       "\n",
       "    .dataframe thead th {\n",
       "        text-align: right;\n",
       "    }\n",
       "</style>\n",
       "<table border=\"1\" class=\"dataframe\">\n",
       "  <thead>\n",
       "    <tr style=\"text-align: right;\">\n",
       "      <th></th>\n",
       "      <th>label</th>\n",
       "      <th>text</th>\n",
       "    </tr>\n",
       "  </thead>\n",
       "  <tbody>\n",
       "    <tr>\n",
       "      <th>0</th>\n",
       "      <td>hate</td>\n",
       "      <td>I hate women</td>\n",
       "    </tr>\n",
       "    <tr>\n",
       "      <th>1</th>\n",
       "      <td>hate</td>\n",
       "      <td>I hate trans people</td>\n",
       "    </tr>\n",
       "    <tr>\n",
       "      <th>2</th>\n",
       "      <td>hate</td>\n",
       "      <td>I hate gay people</td>\n",
       "    </tr>\n",
       "    <tr>\n",
       "      <th>3</th>\n",
       "      <td>hate</td>\n",
       "      <td>I hate black people</td>\n",
       "    </tr>\n",
       "    <tr>\n",
       "      <th>4</th>\n",
       "      <td>hate</td>\n",
       "      <td>I hate disabled people</td>\n",
       "    </tr>\n",
       "  </tbody>\n",
       "</table>\n",
       "</div>"
      ],
      "text/plain": [
       "  label                     text\n",
       "0  hate            I hate women \n",
       "1  hate     I hate trans people \n",
       "2  hate       I hate gay people \n",
       "3  hate     I hate black people \n",
       "4  hate  I hate disabled people "
      ]
     },
     "metadata": {},
     "output_type": "display_data"
    }
   ],
   "source": [
    "import re\n",
    "\n",
    "# Function to clean text: remove special characters, numbers, and expand contractions\n",
    "def clean_text(text):\n",
    "    # Dictionary of English Contractions\n",
    "    contractions_dict = {\n",
    "        \"I'm\": \"I am\",\n",
    "        \"you're\": \"you are\",\n",
    "        \"he's\": \"he is\",\n",
    "        \"she's\": \"she is\",\n",
    "        \"it's\": \"it is\",\n",
    "        \"we're\": \"we are\",\n",
    "        \"they're\": \"they are\",\n",
    "        \"don't\": \"do not\",\n",
    "        \"can't\": \"cannot\",\n",
    "        \"won't\": \"will not\",\n",
    "        \"isn't\": \"is not\",\n",
    "        \"aren't\": \"are not\",\n",
    "        \"didn't\": \"did not\",\n",
    "        \"haven't\": \"have not\",\n",
    "        \"wouldn't\": \"would not\",\n",
    "        \"shouldn't\": \"should not\",\n",
    "        \"couldn't\": \"could not\"\n",
    "            # Add more contractions as needed\n",
    "    }\n",
    "    # Regular expression for finding contractions\n",
    "    contractions_re = re.compile('(%s)' % '|'.join(contractions_dict.keys()))\n",
    "\n",
    "    # Function for expanding contractions\n",
    "    def expand_contractions(s, contractions_dict=contractions_dict):\n",
    "        def replace(match):\n",
    "            return contractions_dict[match.group(0)]\n",
    "        return contractions_re.sub(replace, s)\n",
    "\n",
    "    # Expand Contractions\n",
    "    text = expand_contractions(text)\n",
    "    # Remove special characters and numbers\n",
    "    text = re.sub(r'[^a-zA-Z\\s]', '', text, re.I|re.A)\n",
    "    return text\n",
    "\n",
    "# Apply the cleaning function to both DataFrames\n",
    "df_combine['text'] = df_combine['text'].apply(clean_text)\n",
    "\n",
    "# Display the head of the combined DataFrame to verify the changes\n",
    "display(df_combine.head())\n"
   ]
  },
  {
   "cell_type": "markdown",
   "id": "cb6e7410-55c4-4a96-a1dc-e01047743a59",
   "metadata": {},
   "source": [
    "### Normalization"
   ]
  },
  {
   "cell_type": "code",
   "execution_count": 11,
   "id": "90cd986a-8e7f-488d-84d0-5cec0b76003e",
   "metadata": {},
   "outputs": [
    {
     "name": "stderr",
     "output_type": "stream",
     "text": [
      "C:\\Users\\Bodowin1\\Anaconda3\\lib\\site-packages\\scipy\\__init__.py:155: UserWarning: A NumPy version >=1.18.5 and <1.25.0 is required for this version of SciPy (detected version 1.26.4\n",
      "  warnings.warn(f\"A NumPy version >={np_minversion} and <{np_maxversion}\"\n",
      "[nltk_data] Downloading package punkt to\n",
      "[nltk_data]     C:\\Users\\Bodowin1\\AppData\\Roaming\\nltk_data...\n",
      "[nltk_data]   Package punkt is already up-to-date!\n",
      "[nltk_data] Downloading package wordnet to\n",
      "[nltk_data]     C:\\Users\\Bodowin1\\AppData\\Roaming\\nltk_data...\n",
      "[nltk_data]   Package wordnet is already up-to-date!\n"
     ]
    }
   ],
   "source": [
    "import nltk\n",
    "from nltk.stem import WordNetLemmatizer\n",
    "from nltk.tokenize import word_tokenize\n",
    "\n",
    "# Download necessary NLTK resources\n",
    "nltk.download('punkt')  # For tokenization\n",
    "nltk.download('wordnet')  # For lemmatization\n",
    "\n",
    "# Now, initialize the WordNetLemmatizer\n",
    "lemmatizer = WordNetLemmatizer()"
   ]
  },
  {
   "cell_type": "code",
   "execution_count": 12,
   "id": "7dd27b71-add0-4c42-bcbb-f3ce846466df",
   "metadata": {},
   "outputs": [
    {
     "name": "stderr",
     "output_type": "stream",
     "text": [
      "[nltk_data] Downloading package omw-1.4 to\n",
      "[nltk_data]     C:\\Users\\Bodowin1\\AppData\\Roaming\\nltk_data...\n",
      "[nltk_data]   Package omw-1.4 is already up-to-date!\n"
     ]
    },
    {
     "data": {
      "text/plain": [
       "True"
      ]
     },
     "execution_count": 12,
     "metadata": {},
     "output_type": "execute_result"
    }
   ],
   "source": [
    "# Download the 'omw-1.4' resource to fix an error that I encountered further down below\n",
    "nltk.download('omw-1.4')"
   ]
  },
  {
   "cell_type": "code",
   "execution_count": 13,
   "id": "b2065896-84dd-45f1-a009-3c77cac375b5",
   "metadata": {},
   "outputs": [
    {
     "data": {
      "text/html": [
       "<div>\n",
       "<style scoped>\n",
       "    .dataframe tbody tr th:only-of-type {\n",
       "        vertical-align: middle;\n",
       "    }\n",
       "\n",
       "    .dataframe tbody tr th {\n",
       "        vertical-align: top;\n",
       "    }\n",
       "\n",
       "    .dataframe thead th {\n",
       "        text-align: right;\n",
       "    }\n",
       "</style>\n",
       "<table border=\"1\" class=\"dataframe\">\n",
       "  <thead>\n",
       "    <tr style=\"text-align: right;\">\n",
       "      <th></th>\n",
       "      <th>label</th>\n",
       "      <th>text</th>\n",
       "    </tr>\n",
       "  </thead>\n",
       "  <tbody>\n",
       "    <tr>\n",
       "      <th>0</th>\n",
       "      <td>hate</td>\n",
       "      <td>i hate woman</td>\n",
       "    </tr>\n",
       "    <tr>\n",
       "      <th>1</th>\n",
       "      <td>hate</td>\n",
       "      <td>i hate trans people</td>\n",
       "    </tr>\n",
       "    <tr>\n",
       "      <th>2</th>\n",
       "      <td>hate</td>\n",
       "      <td>i hate gay people</td>\n",
       "    </tr>\n",
       "    <tr>\n",
       "      <th>3</th>\n",
       "      <td>hate</td>\n",
       "      <td>i hate black people</td>\n",
       "    </tr>\n",
       "    <tr>\n",
       "      <th>4</th>\n",
       "      <td>hate</td>\n",
       "      <td>i hate disabled people</td>\n",
       "    </tr>\n",
       "  </tbody>\n",
       "</table>\n",
       "</div>"
      ],
      "text/plain": [
       "  label                    text\n",
       "0  hate            i hate woman\n",
       "1  hate     i hate trans people\n",
       "2  hate       i hate gay people\n",
       "3  hate     i hate black people\n",
       "4  hate  i hate disabled people"
      ]
     },
     "execution_count": 13,
     "metadata": {},
     "output_type": "execute_result"
    }
   ],
   "source": [
    "# Convert text to lowercase\n",
    "df_combine['text'] = df_combine['text'].str.lower()\n",
    "\n",
    "# Initialize the NLTK WordNet Lemmatizer\n",
    "lemmatizer = WordNetLemmatizer()\n",
    "\n",
    "# Function to lemmatize text\n",
    "def lemmatize_text(text):\n",
    "    # Tokenize the text\n",
    "    tokens = word_tokenize(text)\n",
    "    # Lemmatize each word in the text\n",
    "    lemmatized_tokens = [lemmatizer.lemmatize(token) for token in tokens]\n",
    "    # Rejoin lemmatized tokens into a single string\n",
    "    lemmatized_text = ' '.join(lemmatized_tokens)\n",
    "    return lemmatized_text\n",
    "\n",
    "# Apply the lemmatization function to the 'text' column\n",
    "df_combine['text'] = df_combine['text'].apply(lemmatize_text)\n",
    "\n",
    "# Display the head of the DataFrame to verify the changes\n",
    "df_combine.head()\n"
   ]
  },
  {
   "cell_type": "markdown",
   "id": "264ee03f-6033-4ccf-9ac6-1f10f7cf9373",
   "metadata": {},
   "source": [
    "### Tokenization"
   ]
  },
  {
   "cell_type": "code",
   "execution_count": 14,
   "id": "f325d3c0-c313-4f04-b1d2-dd7beaceb188",
   "metadata": {},
   "outputs": [
    {
     "name": "stderr",
     "output_type": "stream",
     "text": [
      "[nltk_data] Downloading package punkt to\n",
      "[nltk_data]     C:\\Users\\Bodowin1\\AppData\\Roaming\\nltk_data...\n",
      "[nltk_data]   Package punkt is already up-to-date!\n"
     ]
    },
    {
     "name": "stdout",
     "output_type": "stream",
     "text": [
      "  label                    text                       tokens\n",
      "0  hate            i hate woman             [i, hate, woman]\n",
      "1  hate     i hate trans people     [i, hate, trans, people]\n",
      "2  hate       i hate gay people       [i, hate, gay, people]\n",
      "3  hate     i hate black people     [i, hate, black, people]\n",
      "4  hate  i hate disabled people  [i, hate, disabled, people]\n"
     ]
    }
   ],
   "source": [
    "from nltk.tokenize import word_tokenize\n",
    "import nltk\n",
    "\n",
    "# Ensure you have the necessary NLTK resource downloaded\n",
    "nltk.download('punkt')\n",
    "\n",
    "# Assuming df_combine is your DataFrame and it has a column named 'text' with normalized text\n",
    "# Define a function to tokenize text\n",
    "def tokenize_text(text):\n",
    "    # Use NLTK's word_tokenize function to split the text into tokens\n",
    "    tokens = word_tokenize(text)\n",
    "    return tokens\n",
    "\n",
    "# Apply the tokenization function to each row in the 'text' column\n",
    "df_combine['tokens'] = df_combine['text'].apply(tokenize_text)\n",
    "\n",
    "# Display the first few rows to check the tokenized text\n",
    "print(df_combine.head())\n",
    "\n"
   ]
  },
  {
   "cell_type": "markdown",
   "id": "17c58647-4435-4688-8a0f-c72405a3bc7a",
   "metadata": {},
   "source": [
    "### Removing Stop Words"
   ]
  },
  {
   "cell_type": "code",
   "execution_count": 15,
   "id": "2d985c21-b9f3-4851-8159-388fb50e4723",
   "metadata": {},
   "outputs": [
    {
     "name": "stderr",
     "output_type": "stream",
     "text": [
      "[nltk_data] Downloading package stopwords to\n",
      "[nltk_data]     C:\\Users\\Bodowin1\\AppData\\Roaming\\nltk_data...\n",
      "[nltk_data]   Package stopwords is already up-to-date!\n"
     ]
    },
    {
     "data": {
      "text/plain": [
       "True"
      ]
     },
     "execution_count": 15,
     "metadata": {},
     "output_type": "execute_result"
    }
   ],
   "source": [
    "import nltk\n",
    "nltk.download('stopwords')\n"
   ]
  },
  {
   "cell_type": "code",
   "execution_count": 16,
   "id": "864326a2-af5c-4c22-8549-ff087baaf603",
   "metadata": {},
   "outputs": [],
   "source": [
    "from nltk.corpus import stopwords\n",
    "\n",
    "# Get the list of English stop words\n",
    "stop_words = set(stopwords.words('english'))\n",
    "\n",
    "def remove_stop_words(tokens):\n",
    "    \"\"\"Remove stop words from a list of tokens\"\"\"\n",
    "    filtered_tokens = [token for token in tokens if token not in stop_words]\n",
    "    return filtered_tokens\n"
   ]
  },
  {
   "cell_type": "code",
   "execution_count": 17,
   "id": "c61994f3-4a87-4ddd-8ec2-08bba863155c",
   "metadata": {},
   "outputs": [
    {
     "name": "stdout",
     "output_type": "stream",
     "text": [
      "  label                    text                       tokens  \\\n",
      "0  hate            i hate woman             [i, hate, woman]   \n",
      "1  hate     i hate trans people     [i, hate, trans, people]   \n",
      "2  hate       i hate gay people       [i, hate, gay, people]   \n",
      "3  hate     i hate black people     [i, hate, black, people]   \n",
      "4  hate  i hate disabled people  [i, hate, disabled, people]   \n",
      "\n",
      "            tokens_filtered  \n",
      "0             [hate, woman]  \n",
      "1     [hate, trans, people]  \n",
      "2       [hate, gay, people]  \n",
      "3     [hate, black, people]  \n",
      "4  [hate, disabled, people]  \n"
     ]
    }
   ],
   "source": [
    "#Applying it to tokens column\n",
    "df_combine['tokens_filtered'] = df_combine['tokens'].apply(remove_stop_words)\n",
    "\n",
    "# Display the DataFrame to verify stop words are removed\n",
    "print(df_combine.head())"
   ]
  },
  {
   "cell_type": "markdown",
   "id": "753b57f2-c334-43bc-a081-d7a14f5331af",
   "metadata": {},
   "source": [
    "### Vectorization"
   ]
  },
  {
   "cell_type": "code",
   "execution_count": 18,
   "id": "b7e5aeac-b9bf-41dc-8e22-dfb07a8135d6",
   "metadata": {},
   "outputs": [],
   "source": [
    "# Join the tokens back into a string\n",
    "df_combine['processed_text'] = df_combine['tokens_filtered'].apply(lambda tokens: ' '.join(tokens))\n"
   ]
  },
  {
   "cell_type": "code",
   "execution_count": 19,
   "id": "94cf7751-0a35-4373-8bc0-643d6d3a7d64",
   "metadata": {},
   "outputs": [
    {
     "name": "stdout",
     "output_type": "stream",
     "text": [
      "(44872, 1000)\n"
     ]
    }
   ],
   "source": [
    "from sklearn.feature_extraction.text import TfidfVectorizer\n",
    "\n",
    "# Initialize the TF-IDF Vectorizer\n",
    "tfidf_vectorizer = TfidfVectorizer(max_features=1000)  # Limiting to 1000 features for simplicity\n",
    "\n",
    "# Fit and transform the 'processed_text' column\n",
    "tfidf_matrix = tfidf_vectorizer.fit_transform(df_combine['processed_text'])\n",
    "\n",
    "# tfidf_matrix is a sparse matrix of shape (n_samples, n_features)\n",
    "print(tfidf_matrix.shape)\n"
   ]
  },
  {
   "cell_type": "code",
   "execution_count": 21,
   "id": "890aeaca-b8b6-4287-bb30-93d8c56bbdf6",
   "metadata": {},
   "outputs": [],
   "source": [
    "#handling imbalanced data?"
   ]
  },
  {
   "cell_type": "code",
   "execution_count": null,
   "id": "b6b2c549-0c84-4c7d-895c-102d69c1e0f0",
   "metadata": {},
   "outputs": [],
   "source": []
  }
 ],
 "metadata": {
  "kernelspec": {
   "display_name": "Python 3 (ipykernel)",
   "language": "python",
   "name": "python3"
  },
  "language_info": {
   "codemirror_mode": {
    "name": "ipython",
    "version": 3
   },
   "file_extension": ".py",
   "mimetype": "text/x-python",
   "name": "python",
   "nbconvert_exporter": "python",
   "pygments_lexer": "ipython3",
   "version": "3.9.13"
  }
 },
 "nbformat": 4,
 "nbformat_minor": 5
}
